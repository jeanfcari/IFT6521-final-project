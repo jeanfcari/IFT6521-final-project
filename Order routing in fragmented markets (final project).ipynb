{
 "cells": [
  {
   "cell_type": "code",
   "execution_count": 470,
   "metadata": {},
   "outputs": [],
   "source": [
    "# array manipulation\n",
    "import numpy as np\n",
    "\n",
    "# random distribution\n",
    "from scipy.stats import poisson\n",
    "\n",
    "# plotting\n",
    "import matplotlib.pyplot as plt\n",
    "from matplotlib.ticker import StrMethodFormatter\n",
    "\n",
    "# supervised learning\n",
    "from sklearn.linear_model import LinearRegression\n",
    "from sklearn.preprocessing import PolynomialFeatures\n",
    "\n",
    "# used to make copies of the regression model\n",
    "from copy import deepcopy"
   ]
  },
  {
   "cell_type": "markdown",
   "metadata": {},
   "source": [
    "## Experiment paremeters"
   ]
  },
  {
   "cell_type": "code",
   "execution_count": 450,
   "metadata": {},
   "outputs": [],
   "source": [
    "np.random.seed(123) # set random seed to replicate experiments\n",
    "\n",
    "x_0 = 10  # initial inventory\n",
    "\n",
    "lambda1 = 2 # intensity of counter-party order arrival for exchange 1 \n",
    "lambda2 = 1 # intensity of counter-party order arrival for exchange 2 \n",
    "\n",
    "r1 = .001 # rebate for exchange 1\n",
    "r2 = .002 # rebate for exchange 2\n",
    "\n",
    "beta = .0003 # trader's risk aversion or impatience level\n",
    "epsilon = 1e-10 # tolerance to consider convergence of the algorithms\n",
    "\n",
    "n_simuls = 5000 # number of transitions simulated for fitted Q-iteration"
   ]
  },
  {
   "cell_type": "markdown",
   "metadata": {},
   "source": [
    "# Value Iteration"
   ]
  },
  {
   "cell_type": "code",
   "execution_count": 451,
   "metadata": {},
   "outputs": [],
   "source": [
    "\n",
    "# distribution of the number of share filled for one exchange\n",
    "def prob_y(y, x, lbda):\n",
    "    \n",
    "    \n",
    "    if y > x:\n",
    "        \n",
    "        return 0\n",
    "    \n",
    "    if y > 0:\n",
    "        \n",
    "        p = poisson.pmf(x-y, lbda)\n",
    "        \n",
    "    else:\n",
    "        \n",
    "        p = 1 - poisson.cdf(x-1, lbda)\n",
    "        \n",
    "    return p\n",
    "\n",
    "\n",
    "# cost given initial quantity routed to two exchanges and unfilled quantities resulting\n",
    "def g(y1, y2, x1, x2, r1, r2, beta):\n",
    "\n",
    "\n",
    "    return np.maximum((x1 - y1),0)*(1-r1) + np.maximum((x2 - y2),0)*(1-r2) + beta*(y1 + y2)"
   ]
  },
  {
   "cell_type": "markdown",
   "metadata": {},
   "source": [
    "### Algorithm"
   ]
  },
  {
   "cell_type": "code",
   "execution_count": 453,
   "metadata": {},
   "outputs": [],
   "source": [
    "\n",
    "J = np.ones(x_0+1) # store expected future costs for each state\n",
    "new_J = J.copy()\n",
    "\n",
    "while True:\n",
    "\n",
    "    Q = []\n",
    "\n",
    "    for j in range(len(J)): # for each state\n",
    "\n",
    "        E_u = []\n",
    "        x = j\n",
    "\n",
    "        for u in range(int(x+1)): # for each action\n",
    "\n",
    "            exp_val_u = 0\n",
    "\n",
    "            x1 = u\n",
    "            x2 = x-u\n",
    "\n",
    "            for y1 in range(x1+1):\n",
    "\n",
    "                for y2 in range(x2+1):\n",
    "\n",
    "\n",
    "                        # joint probability of ending with y1 and y2 unfilled quantities on each exchange\n",
    "                        p_y1_y2 = prob_y(y1, x1, lambda1) * prob_y(y2, x2, lambda2)\n",
    "\n",
    "                        g_y1_y2 = g(y1, y2, x1, x2, r1, r2, beta)\n",
    "\n",
    "                        # next state\n",
    "                        y = y1 + y2\n",
    "                        \n",
    "                        # add contribution to expected value\n",
    "                        exp_val_u += p_y1_y2 * (g_y1_y2 + (J[y] if y>0 else 0))\n",
    "\n",
    "\n",
    "            E_u.append(exp_val_u)\n",
    "\n",
    "\n",
    "        new_J[j] = np.min(E_u)\n",
    "\n",
    "        Q.append(E_u)\n",
    "    \n",
    "    if np.max(np.abs(J-new_J)) > epsilon:\n",
    "        J = new_J.copy()\n",
    "    else:\n",
    "        break\n"
   ]
  },
  {
   "cell_type": "code",
   "execution_count": 455,
   "metadata": {},
   "outputs": [
    {
     "data": {
      "text/plain": [
       "5.496758603840135e-11"
      ]
     },
     "execution_count": 455,
     "metadata": {},
     "output_type": "execute_result"
    }
   ],
   "source": [
    "np.max(np.abs(J-new_J)) # check convergence"
   ]
  },
  {
   "cell_type": "markdown",
   "metadata": {},
   "source": [
    "# Fitted-Q Iteration"
   ]
  },
  {
   "cell_type": "code",
   "execution_count": 456,
   "metadata": {},
   "outputs": [],
   "source": [
    "# simulate one transition given state x and control u\n",
    "def simul(x, u, lambda1, lambda2, r1, r2, beta):\n",
    "    \n",
    "    x1 = u\n",
    "    x2 = x-u\n",
    "    \n",
    "    w1 = poisson.rvs(lambda1)\n",
    "    w2 = poisson.rvs(lambda2)\n",
    "    \n",
    "    y1 = max(x1-w1, 0)\n",
    "    y2 = max(x2-w2, 0)\n",
    "    \n",
    "    cost = g(y1, y2, x1, x2, r1, r2, beta)\n",
    "        \n",
    "    x_next = y1 + y2\n",
    "    \n",
    "    return (x, u, cost, x_next)"
   ]
  },
  {
   "cell_type": "code",
   "execution_count": 457,
   "metadata": {},
   "outputs": [],
   "source": [
    "# create pairs of (x_next, u) for each possible action u in state x_next\n",
    "def make_examples(x_next):\n",
    "    \n",
    "    examples = []\n",
    "    for x in x_next:\n",
    "        \n",
    "        x_examples = []\n",
    "        \n",
    "        for u in range(x+1):\n",
    "            x_examples.append((x,u))\n",
    "            \n",
    "        examples.append(np.array(x_examples))\n",
    "    \n",
    "    return examples\n",
    "\n",
    "\n",
    "# use polynomial regression to evaluate next best action for each x_next \n",
    "def eval_Q_next_max(examples, lr, poly):\n",
    "    \n",
    "    \n",
    "    splits = np.cumsum([len(e) for e in examples])[:-1]\n",
    "    \n",
    "    \n",
    "    stacked_examples = np.vstack(examples)\n",
    "    \n",
    "    Q = lr.predict(poly.transform(stacked_examples))\n",
    "    Q = np.split(Q, splits)\n",
    "    \n",
    "    \n",
    "    Q_next_max = [np.max(q) if examples[i][0][0]!=0 else 0 for i, q in enumerate(Q)]\n",
    "\n",
    "    return np.vstack(Q_next_max)"
   ]
  },
  {
   "cell_type": "markdown",
   "metadata": {},
   "source": [
    "### Algorithm"
   ]
  },
  {
   "cell_type": "code",
   "execution_count": 458,
   "metadata": {},
   "outputs": [
    {
     "data": {
      "text/plain": [
       "LinearRegression(copy_X=True, fit_intercept=True, n_jobs=None, normalize=False)"
      ]
     },
     "execution_count": 458,
     "metadata": {},
     "output_type": "execute_result"
    }
   ],
   "source": [
    "# used to generate polynomial features\n",
    "poly = PolynomialFeatures()\n",
    "poly.fit(np.zeros((1, 2)))\n",
    "\n",
    "\n",
    "# Linear regression on the polynomial features initialized to predict zeros\n",
    "lr = LinearRegression()\n",
    "lr.fit(poly.transform(np.zeros((1, 2))), np.zeros((1, 1)))"
   ]
  },
  {
   "cell_type": "code",
   "execution_count": 461,
   "metadata": {},
   "outputs": [],
   "source": [
    "# create list of all possible state-control pairs to sample from\n",
    "state_controls = []\n",
    "for i in range(1, x_0+1):\n",
    "    for j in range(i+1):\n",
    "        state_controls.append((i,j))\n",
    "\n",
    "        \n",
    "# generate n_simuls random transitions\n",
    "\n",
    "simuls = []\n",
    "\n",
    "for _ in range(n_simuls):\n",
    "    \n",
    "    idx = np.random.randint(len(state_controls))\n",
    "    i, j = state_controls[idx]\n",
    "    simuls.append(simul(i, j, lambda1, lambda2, r1, r2, beta))\n",
    "    \n",
    "\n",
    "# split state, control, cost, and next state into different arrays\n",
    "x, u, costs, x_next = np.split(np.vstack(simuls), 4, axis=1)\n",
    "\n",
    "# generate polynomial features once for all transitions\n",
    "features = poly.transform(np.hstack([x,u]))\n",
    "\n",
    "\n",
    "# generate next_state-control pairs once for all transitions\n",
    "x_next_u = make_examples(x_next.flatten().astype(int))\n"
   ]
  },
  {
   "cell_type": "code",
   "execution_count": 465,
   "metadata": {},
   "outputs": [],
   "source": [
    "lr_last = deepcopy(lr) \n",
    "\n",
    "while True:\n",
    "    \n",
    "    # create new targets\n",
    "    Q_next_max = eval_Q_next_max(x_next_u, lr_last, poly)\n",
    "    targets = costs + Q_next_max\n",
    "\n",
    "    # fit on new targets\n",
    "    features = poly.transform(np.hstack([x,u]))\n",
    "    lr.fit(features, targets)\n",
    "\n",
    "    # stop if predicted Q-factors do not improve\n",
    "    if np.max(np.abs(lr.predict(features) - lr_last.predict(features)))>epsilon:\n",
    "        lr_last = deepcopy(lr) \n",
    "    else:\n",
    "        break     "
   ]
  },
  {
   "cell_type": "code",
   "execution_count": 466,
   "metadata": {},
   "outputs": [
    {
     "data": {
      "text/plain": [
       "4.178701829005149e-11"
      ]
     },
     "execution_count": 466,
     "metadata": {},
     "output_type": "execute_result"
    }
   ],
   "source": [
    "np.max(np.abs(lr.predict(features) - lr_last.predict(features)))"
   ]
  },
  {
   "cell_type": "markdown",
   "metadata": {},
   "source": [
    "# Plotting\n",
    "\n",
    "The following cells are only used to generate plots and are thus left uncommented"
   ]
  },
  {
   "cell_type": "code",
   "execution_count": 467,
   "metadata": {},
   "outputs": [
    {
     "data": {
      "text/plain": [
       "<matplotlib.legend.Legend at 0x1412718d0>"
      ]
     },
     "execution_count": 467,
     "metadata": {},
     "output_type": "execute_result"
    },
    {
     "data": {
      "image/png": "[encoded data removed]",
      "text/plain": [
       "<Figure size 1008x504 with 4 Axes>"
      ]
     },
     "metadata": {
      "needs_background": "light"
     },
     "output_type": "display_data"
    }
   ],
   "source": [
    "\n",
    "rows = 2\n",
    "cols = 2\n",
    "gap = x_0 // (rows*cols)\n",
    "\n",
    "\n",
    "fig, axes = plt.subplots(rows,cols, sharex=True)\n",
    "\n",
    "fig.set_size_inches((14,7))\n",
    "\n",
    "\n",
    "for i, to_buy in enumerate(list(range(1, x_0, gap))[-rows*cols:]):\n",
    "    \n",
    "    features = []\n",
    "\n",
    "    for control in range(to_buy+1):\n",
    "        features.append((to_buy, control))\n",
    "        \n",
    "    features = poly.transform(np.vstack(features))\n",
    "    \n",
    "    q_approx = lr.predict(features)\n",
    "    q_exact = Q[to_buy]\n",
    "    \n",
    "    r = i // cols\n",
    "    c = i % cols\n",
    "    \n",
    "    axes[r][c].plot(q_exact, label=\"Value Iteration\" if i==0 else \"\", color='blue')\n",
    "    axes[r][c].plot(q_approx, label=\"Fitted Q-iteration\" if i==0 else \"\", color='red')\n",
    "    axes[r][c].set_title(f\"Inventory {to_buy}\")\n",
    "    axes[r][c].yaxis.set_major_formatter(StrMethodFormatter('{x:,.4f}'))\n",
    "    yticks = axes[r,c].get_yticks()\n",
    "    axes[r,c].set_yticks([yticks[0], np.median(yticks), yticks[-1]])\n",
    "\n",
    "    \n",
    "fig.text(0.5, 0.04, 'Number of shares u routed to exchange 1', ha='center', size=12)\n",
    "fig.text(0.04, 0.5, 'Q(x,u)', va='center', rotation='vertical', size=15)\n",
    "fig.suptitle(\"Q-factors for some inventory levels\", size=14)\n",
    "fig.legend()"
   ]
  },
  {
   "cell_type": "code",
   "execution_count": 468,
   "metadata": {},
   "outputs": [],
   "source": [
    "\n",
    "mu_approx = []\n",
    "\n",
    "for i, to_buy in enumerate(range(1,x_0+1)):\n",
    "    \n",
    "    features = []\n",
    "\n",
    "    for control in range(to_buy+1):\n",
    "        features.append((to_buy, control))\n",
    "        \n",
    "    features = poly.transform(np.vstack(features))\n",
    "    \n",
    "    q_approx = lr.predict(features).argmin()\n",
    "    \n",
    "    mu_approx.append(q_approx)\n",
    "    \n",
    "    \n",
    "mu_exact = [np.argmin(q_exact) for q_exact in Q[1:]]\n"
   ]
  },
  {
   "cell_type": "code",
   "execution_count": 469,
   "metadata": {},
   "outputs": [
    {
     "data": {
      "text/plain": [
       "Text(0.04, 0.5, 'Number of shares (control)')"
      ]
     },
     "execution_count": 469,
     "metadata": {},
     "output_type": "execute_result"
    },
    {
     "data": {
      "image/png": "[encoded data removed]",
      "text/plain": [
       "<Figure size 720x360 with 2 Axes>"
      ]
     },
     "metadata": {
      "needs_background": "light"
     },
     "output_type": "display_data"
    }
   ],
   "source": [
    "\n",
    "x_ticks = np.array(list(range(1,x_0+1)))\n",
    "fig, axes = plt.subplots(1,2, sharex=True, sharey=True)\n",
    "fig.set_size_inches((10,5))\n",
    "\n",
    "axes[0].plot(x_ticks, mu_exact, color='blue', label=\"Exchange 1\")\n",
    "axes[0].plot(x_ticks, x_ticks - np.array(mu_exact), '--', color='blue', label=\"Exchange 2\")\n",
    "axes[0].legend()\n",
    "axes[0].set_title(\"Value Iteration\")\n",
    "axes[0].invert_xaxis()\n",
    "\n",
    "axes[1].plot(x_ticks, mu_approx, color='red', label=\"Exchange 1\")\n",
    "axes[1].plot(x_ticks, x_ticks - np.array(mu_approx), '--', color='red', label=\"Exchange 2\")\n",
    "axes[1].legend()\n",
    "axes[1].set_title(\"Fitted Q-iteration\")\n",
    "\n",
    "\n",
    "fig.suptitle(\"Shares routed to each exchange by algorithm\", y=1.05, size=14)\n",
    "fig.text(0.5, 0.0, 'Remaining shares to buy (state)', ha='center', size=12)\n",
    "fig.text(0.04, 0.5, 'Number of shares (control)', va='center', rotation='vertical', size=12)"
   ]
  }
 ],
 "metadata": {
  "kernelspec": {
   "display_name": "Python 3",
   "language": "python",
   "name": "python3"
  },
  "language_info": {
   "codemirror_mode": {
    "name": "ipython",
    "version": 3
   },
   "file_extension": ".py",
   "mimetype": "text/x-python",
   "name": "python",
   "nbconvert_exporter": "python",
   "pygments_lexer": "ipython3",
   "version": "3.7.9"
  },
  "varInspector": {
   "cols": {
    "lenName": 16,
    "lenType": 16,
    "lenVar": 40
   },
   "kernels_config": {
    "python": {
     "delete_cmd_postfix": "",
     "delete_cmd_prefix": "del ",
     "library": "var_list.py",
     "varRefreshCmd": "print(var_dic_list())"
    },
    "r": {
     "delete_cmd_postfix": ") ",
     "delete_cmd_prefix": "rm(",
     "library": "var_list.r",
     "varRefreshCmd": "cat(var_dic_list()) "
    }
   },
   "types_to_exclude": [
    "module",
    "function",
    "builtin_function_or_method",
    "instance",
    "_Feature"
   ],
   "window_display": false
  }
 },
 "nbformat": 4,
 "nbformat_minor": 2
}
